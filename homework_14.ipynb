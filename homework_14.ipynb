{
 "cells": [
  {
   "cell_type": "code",
   "execution_count": 1,
   "metadata": {},
   "outputs": [],
   "source": [
    "import os\n",
    "from __future__ import print_function\n",
    "import numpy as np\n",
    "import torch\n",
    "import torch.nn as nn\n",
    "import torch.optim as optim\n",
    "\n",
    "import torchvision.datasets as datasets\n",
    "import torchvision.transforms as transforms\n",
    "import torchvision.models as models\n",
    "\n",
    "import matplotlib.pyplot as plt"
   ]
  },
  {
   "cell_type": "code",
   "execution_count": 2,
   "metadata": {},
   "outputs": [],
   "source": [
    "root = \"D:/Training/itHillel/Machine Learning/Lesson_14/tiny-imagenet-200/tiny-imagenet-200/\"\n",
    "num_classes = 200\n",
    "batch_size = 64"
   ]
  },
  {
   "cell_type": "code",
   "execution_count": 3,
   "metadata": {},
   "outputs": [],
   "source": [
    "def load_data(directory):\n",
    "    transform_mean = np.array([0.485, 0.456, 0.406])\n",
    "    transform_std = np.array([0.229, 0.224, 0.225])\n",
    "\n",
    "    train_transform = transforms.Compose(\n",
    "        [\n",
    "            transforms.RandomCrop(64),\n",
    "            transforms.RandomRotation(degrees=66),\n",
    "            transforms.ColorJitter(brightness=0.5, contrast=1, saturation=0.1, hue=0.5),\n",
    "            transforms.ToTensor(),\n",
    "            transforms.Normalize(mean=transform_mean, std=transform_std),\n",
    "        ]\n",
    "    )\n",
    "\n",
    "    val_transform = transforms.Compose(\n",
    "        [\n",
    "            transforms.RandomCrop(64),\n",
    "            transforms.RandomRotation(degrees=66),\n",
    "            transforms.ColorJitter(brightness=0.5, contrast=1, saturation=0.1, hue=0.5),\n",
    "            transforms.ToTensor(),\n",
    "            transforms.Normalize(mean=transform_mean, std=transform_std),\n",
    "        ]\n",
    "    )\n",
    "\n",
    "    traindir = os.path.join(root, \"train\")\n",
    "    valdir = os.path.join(root, \"val\")\n",
    "\n",
    "    train = datasets.ImageFolder(traindir, train_transform)\n",
    "    val = datasets.ImageFolder(valdir, val_transform)\n",
    "\n",
    "    train_loader = torch.utils.data.DataLoader(train, batch_size=batch_size, num_workers=4, shuffle=True)\n",
    "    val_loader = torch.utils.data.DataLoader(val, batch_size=batch_size, num_workers=4, shuffle=True)\n",
    "\n",
    "    assert num_classes == len(train_loader.dataset.classes)\n",
    "\n",
    "    return train_loader, val_loader, traindir, valdir\n",
    "\n",
    "\n",
    "train_loader, val_loader, traindir, valdir = load_data(root)"
   ]
  },
  {
   "cell_type": "code",
   "execution_count": 4,
   "metadata": {},
   "outputs": [],
   "source": [
    "with open(os.path.join(root, \"words.txt\"), \"r\") as dictionary_file:\n",
    "    \n",
    "    line = dictionary_file.readlines()\n",
    "    line"
   ]
  },
  {
   "cell_type": "code",
   "execution_count": 5,
   "metadata": {},
   "outputs": [
    {
     "data": {
      "text/plain": [
       "'n00001740\\tentity\\n'"
      ]
     },
     "execution_count": 5,
     "metadata": {},
     "output_type": "execute_result"
    }
   ],
   "source": [
    "line[0]"
   ]
  },
  {
   "cell_type": "code",
   "execution_count": 6,
   "metadata": {},
   "outputs": [
    {
     "data": {
      "text/plain": [
       "[['n00001740', 'entity'],\n",
       " ['n00001930', 'physical entity'],\n",
       " ['n00002137', 'abstraction, abstract entity'],\n",
       " ['n00002452', 'thing'],\n",
       " ['n00002684', 'object, physical object'],\n",
       " ['n00003553', 'whole, unit'],\n",
       " ['n00003993', 'congener'],\n",
       " ['n00004258', 'living thing, animate thing'],\n",
       " ['n00004475', 'organism, being'],\n",
       " ['n00005787', 'benthos']]"
      ]
     },
     "execution_count": 6,
     "metadata": {},
     "output_type": "execute_result"
    }
   ],
   "source": [
    "new_line = []\n",
    "for i in line:\n",
    "    new_line.append(i[:-1].split(\"\\t\"))\n",
    "\n",
    "new_line[:10]"
   ]
  },
  {
   "cell_type": "code",
   "execution_count": 7,
   "metadata": {},
   "outputs": [
    {
     "data": {
      "text/plain": [
       "82115"
      ]
     },
     "execution_count": 7,
     "metadata": {},
     "output_type": "execute_result"
    }
   ],
   "source": [
    "len(new_line)"
   ]
  },
  {
   "cell_type": "code",
   "execution_count": 10,
   "metadata": {},
   "outputs": [
    {
     "data": {
      "text/plain": [
       "[('n00001740', 'entity'),\n",
       " ('n00001930', 'physical entity'),\n",
       " ('n00002137', 'abstraction, abstract entity'),\n",
       " ('n00002452', 'thing'),\n",
       " ('n00002684', 'object, physical object'),\n",
       " ('n00003553', 'whole, unit'),\n",
       " ('n00003993', 'congener'),\n",
       " ('n00004258', 'living thing, animate thing'),\n",
       " ('n00004475', 'organism, being'),\n",
       " ('n00005787', 'benthos')]"
      ]
     },
     "execution_count": 10,
     "metadata": {},
     "output_type": "execute_result"
    }
   ],
   "source": [
    "small_labels = {}\n",
    "\n",
    "for k in new_line:\n",
    "    small_labels[k[0]] = k[1]\n",
    "\n",
    "list(small_labels.items())[:10]"
   ]
  },
  {
   "cell_type": "code",
   "execution_count": 11,
   "metadata": {},
   "outputs": [
    {
     "data": {
      "text/plain": [
       "82115"
      ]
     },
     "execution_count": 11,
     "metadata": {},
     "output_type": "execute_result"
    }
   ],
   "source": [
    "len(small_labels)"
   ]
  },
  {
   "cell_type": "code",
   "execution_count": 12,
   "metadata": {},
   "outputs": [
    {
     "data": {
      "text/plain": [
       "['n01443537', 'n01629819', 'n01641577', 'n01644900', 'n01698640']"
      ]
     },
     "execution_count": 12,
     "metadata": {},
     "output_type": "execute_result"
    }
   ],
   "source": [
    "os.listdir(traindir)[:5]"
   ]
  },
  {
   "cell_type": "code",
   "execution_count": 14,
   "metadata": {},
   "outputs": [],
   "source": [
    "train_func = load_data(\"train_transform\")\n",
    "labels = {}\n",
    "label_ids = {}\n",
    "for label_index, label_id in enumerate(train_loader.dataset.classes):\n",
    "    label = small_labels[label_id]\n",
    "    labels[label_index] = label\n",
    "    label_ids[label_id] = label_index"
   ]
  },
  {
   "cell_type": "code",
   "execution_count": 15,
   "metadata": {},
   "outputs": [
    {
     "data": {
      "text/plain": [
       "[(0, 'goldfish, Carassius auratus'),\n",
       " (1, 'European fire salamander, Salamandra salamandra'),\n",
       " (2, 'bullfrog, Rana catesbeiana'),\n",
       " (3, 'tailed frog, bell toad, ribbed toad, tailed toad, Ascaphus trui'),\n",
       " (4, 'American alligator, Alligator mississipiensis'),\n",
       " (5, 'boa constrictor, Constrictor constrictor'),\n",
       " (6, 'trilobite'),\n",
       " (7, 'scorpion'),\n",
       " (8, 'black widow, Latrodectus mactans'),\n",
       " (9, 'tarantula')]"
      ]
     },
     "execution_count": 15,
     "metadata": {},
     "output_type": "execute_result"
    }
   ],
   "source": [
    "list(labels.items())[:10]"
   ]
  },
  {
   "cell_type": "code",
   "execution_count": 16,
   "metadata": {},
   "outputs": [
    {
     "data": {
      "text/plain": [
       "[('n01443537', 0),\n",
       " ('n01629819', 1),\n",
       " ('n01641577', 2),\n",
       " ('n01644900', 3),\n",
       " ('n01698640', 4),\n",
       " ('n01742172', 5),\n",
       " ('n01768244', 6),\n",
       " ('n01770393', 7),\n",
       " ('n01774384', 8),\n",
       " ('n01774750', 9)]"
      ]
     },
     "execution_count": 16,
     "metadata": {},
     "output_type": "execute_result"
    }
   ],
   "source": [
    "list(label_ids.items())[:10]"
   ]
  },
  {
   "cell_type": "code",
   "execution_count": 17,
   "metadata": {},
   "outputs": [],
   "source": [
    "with open(os.path.join(root, \"val/val_annotations.txt\"), \"r\") as val_label_file:\n",
    "    line = val_label_file.readlines()\n",
    "    line"
   ]
  },
  {
   "cell_type": "code",
   "execution_count": 18,
   "metadata": {},
   "outputs": [
    {
     "data": {
      "text/plain": [
       "'val_2.JPEG\\tn04070727\\t4\\t0\\t60\\t55\\n'"
      ]
     },
     "execution_count": 18,
     "metadata": {},
     "output_type": "execute_result"
    }
   ],
   "source": [
    "line[2]"
   ]
  },
  {
   "cell_type": "code",
   "execution_count": 19,
   "metadata": {},
   "outputs": [
    {
     "data": {
      "text/plain": [
       "[['val_0.JPEG', 'n03444034', '0', '32', '44', '62\\n'],\n",
       " ['val_1.JPEG', 'n04067472', '52', '55', '57', '59\\n'],\n",
       " ['val_2.JPEG', 'n04070727', '4', '0', '60', '55\\n'],\n",
       " ['val_3.JPEG', 'n02808440', '3', '3', '63', '63\\n'],\n",
       " ['val_4.JPEG', 'n02808440', '9', '27', '63', '48\\n'],\n",
       " ['val_5.JPEG', 'n04399382', '7', '0', '59', '63\\n'],\n",
       " ['val_6.JPEG', 'n04179913', '0', '0', '63', '56\\n'],\n",
       " ['val_7.JPEG', 'n02823428', '5', '0', '57', '63\\n'],\n",
       " ['val_8.JPEG', 'n04146614', '0', '31', '60', '60\\n'],\n",
       " ['val_9.JPEG', 'n02226429', '0', '3', '63', '57\\n']]"
      ]
     },
     "execution_count": 19,
     "metadata": {},
     "output_type": "execute_result"
    }
   ],
   "source": [
    "new_lines = []\n",
    "for i in line:\n",
    "    new_lines.append(i.split(\"\\t\"))\n",
    "\n",
    "new_lines[:10]"
   ]
  },
  {
   "cell_type": "code",
   "execution_count": 20,
   "metadata": {},
   "outputs": [
    {
     "data": {
      "text/plain": [
       "[['val_0.JPEG', 'n03444034'],\n",
       " ['val_1.JPEG', 'n04067472'],\n",
       " ['val_2.JPEG', 'n04070727'],\n",
       " ['val_3.JPEG', 'n02808440'],\n",
       " ['val_4.JPEG', 'n02808440'],\n",
       " ['val_5.JPEG', 'n04399382'],\n",
       " ['val_6.JPEG', 'n04179913'],\n",
       " ['val_7.JPEG', 'n02823428'],\n",
       " ['val_8.JPEG', 'n04146614'],\n",
       " ['val_9.JPEG', 'n02226429']]"
      ]
     },
     "execution_count": 20,
     "metadata": {},
     "output_type": "execute_result"
    }
   ],
   "source": [
    "mylist = []\n",
    "for i in new_lines:\n",
    "    mylist.append(i[:2])\n",
    "\n",
    "mylist[:10]"
   ]
  },
  {
   "cell_type": "code",
   "execution_count": 21,
   "metadata": {},
   "outputs": [
    {
     "data": {
      "text/plain": [
       "10000"
      ]
     },
     "execution_count": 21,
     "metadata": {},
     "output_type": "execute_result"
    }
   ],
   "source": [
    "len(mylist)"
   ]
  },
  {
   "cell_type": "code",
   "execution_count": 22,
   "metadata": {},
   "outputs": [
    {
     "data": {
      "text/plain": [
       "[('val_0.JPEG', 'n03444034'),\n",
       " ('val_1.JPEG', 'n04067472'),\n",
       " ('val_2.JPEG', 'n04070727'),\n",
       " ('val_3.JPEG', 'n02808440'),\n",
       " ('val_4.JPEG', 'n02808440'),\n",
       " ('val_5.JPEG', 'n04399382'),\n",
       " ('val_6.JPEG', 'n04179913'),\n",
       " ('val_7.JPEG', 'n02823428'),\n",
       " ('val_8.JPEG', 'n04146614'),\n",
       " ('val_9.JPEG', 'n02226429')]"
      ]
     },
     "execution_count": 22,
     "metadata": {},
     "output_type": "execute_result"
    }
   ],
   "source": [
    "val_label_map = {}\n",
    "\n",
    "for k in mylist:\n",
    "    val_label_map[k[0]] = k[1]\n",
    "\n",
    "list(val_label_map.items())[:10]"
   ]
  },
  {
   "cell_type": "code",
   "execution_count": 23,
   "metadata": {},
   "outputs": [
    {
     "data": {
      "text/plain": [
       "10000"
      ]
     },
     "execution_count": 23,
     "metadata": {},
     "output_type": "execute_result"
    }
   ],
   "source": [
    "len(val_label_map)"
   ]
  },
  {
   "cell_type": "code",
   "execution_count": 22,
   "metadata": {},
   "outputs": [
    {
     "data": {
      "text/plain": [
       "[('D:/Training/itHillel/Machine Learning/Lesson_14/tiny-imagenet-200/tiny-imagenet-200/val\\\\images\\\\val_0.JPEG',\n",
       "  0),\n",
       " ('D:/Training/itHillel/Machine Learning/Lesson_14/tiny-imagenet-200/tiny-imagenet-200/val\\\\images\\\\val_1.JPEG',\n",
       "  0),\n",
       " ('D:/Training/itHillel/Machine Learning/Lesson_14/tiny-imagenet-200/tiny-imagenet-200/val\\\\images\\\\val_10.JPEG',\n",
       "  0),\n",
       " ('D:/Training/itHillel/Machine Learning/Lesson_14/tiny-imagenet-200/tiny-imagenet-200/val\\\\images\\\\val_100.JPEG',\n",
       "  0),\n",
       " ('D:/Training/itHillel/Machine Learning/Lesson_14/tiny-imagenet-200/tiny-imagenet-200/val\\\\images\\\\val_1000.JPEG',\n",
       "  0)]"
      ]
     },
     "execution_count": 22,
     "metadata": {},
     "output_type": "execute_result"
    }
   ],
   "source": [
    "val_loader.dataset.imgs[:5]"
   ]
  },
  {
   "cell_type": "code",
   "execution_count": 23,
   "metadata": {},
   "outputs": [],
   "source": [
    "for i in range(len(val_loader.dataset.imgs)):\n",
    "    file_path = val_loader.dataset.imgs[i][0]\n",
    "    \n",
    "    file_name = os.path.basename(file_path)\n",
    "    label_id = val_label_map[file_name]\n",
    "    \n",
    "    val_loader.dataset.imgs[i] = (file_path, label_ids[label_id])"
   ]
  },
  {
   "cell_type": "code",
   "execution_count": 24,
   "metadata": {},
   "outputs": [
    {
     "data": {
      "text/plain": [
       "[('D:/Training/itHillel/Machine Learning/Lesson_14/tiny-imagenet-200/tiny-imagenet-200/val\\\\images\\\\val_0.JPEG',\n",
       "  107),\n",
       " ('D:/Training/itHillel/Machine Learning/Lesson_14/tiny-imagenet-200/tiny-imagenet-200/val\\\\images\\\\val_1.JPEG',\n",
       "  139),\n",
       " ('D:/Training/itHillel/Machine Learning/Lesson_14/tiny-imagenet-200/tiny-imagenet-200/val\\\\images\\\\val_10.JPEG',\n",
       "  158),\n",
       " ('D:/Training/itHillel/Machine Learning/Lesson_14/tiny-imagenet-200/tiny-imagenet-200/val\\\\images\\\\val_100.JPEG',\n",
       "  90),\n",
       " ('D:/Training/itHillel/Machine Learning/Lesson_14/tiny-imagenet-200/tiny-imagenet-200/val\\\\images\\\\val_1000.JPEG',\n",
       "  138)]"
      ]
     },
     "execution_count": 24,
     "metadata": {},
     "output_type": "execute_result"
    }
   ],
   "source": [
    "val_loader.dataset.imgs[:5]"
   ]
  },
  {
   "cell_type": "code",
   "execution_count": 25,
   "metadata": {},
   "outputs": [],
   "source": [
    "def initialize_weights(m):\n",
    "    weight_shape = list(m.weight.data.size())\n",
    "    fan_in = weight_shape[1]\n",
    "    fan_out = weight_shape[0]\n",
    "    w_bound = np.sqrt(6. / (fan_in + fan_out))\n",
    "    m.weight.data.uniform_(-w_bound, w_bound)\n",
    "    m.bias.data.fill_(0)"
   ]
  },
  {
   "cell_type": "code",
   "execution_count": 26,
   "metadata": {},
   "outputs": [
    {
     "name": "stderr",
     "output_type": "stream",
     "text": [
      "C:\\Users\\User\\AppData\\Roaming\\Python\\Python311\\site-packages\\torchvision\\models\\_utils.py:208: UserWarning: The parameter 'pretrained' is deprecated since 0.13 and may be removed in the future, please use 'weights' instead.\n",
      "  warnings.warn(\n",
      "C:\\Users\\User\\AppData\\Roaming\\Python\\Python311\\site-packages\\torchvision\\models\\_utils.py:223: UserWarning: Arguments other than a weight enum or `None` for 'weights' are deprecated since 0.13 and may be removed in the future. The current behavior is equivalent to passing `weights=AlexNet_Weights.IMAGENET1K_V1`. You can also use `weights=AlexNet_Weights.DEFAULT` to get the most up-to-date weights.\n",
      "  warnings.warn(msg)\n"
     ]
    }
   ],
   "source": [
    "pre_trained_model = models.alexnet(pretrained=True)\n",
    "state_dict = pre_trained_model.state_dict()\n",
    "state_dict.pop(\"classifier.6.weight\")\n",
    "state_dict.pop(\"classifier.6.bias\")\n",
    "model = models.alexnet(num_classes=num_classes)\n",
    "model.load_state_dict(state_dict, strict=False)\n",
    "\n",
    "parameters = model.classifier[6].parameters()\n",
    "initialize_weights(model.classifier[6])\n",
    "\n",
    "loss = nn.CrossEntropyLoss()\n",
    "optimizer = optim.SGD(parameters, lr=0.001, momentum=0.9)"
   ]
  },
  {
   "cell_type": "code",
   "execution_count": 27,
   "metadata": {},
   "outputs": [],
   "source": [
    "def train_loop(dataloader, model):\n",
    "\n",
    "    size = len(dataloader.dataset)\n",
    "\n",
    "    for batch, (X, y) in enumerate(dataloader):\n",
    "\n",
    "        pred = model(X)\n",
    "        loss_res = loss(pred, y)\n",
    "        loss_res.backward()\n",
    "        optimizer.step()\n",
    "        optimizer.zero_grad()\n",
    "\n",
    "        if batch % 100 == 0:\n",
    "\n",
    "            loss_res, current = loss_res.item(), batch * batch_size + len(X)\n",
    "            print(f\"loss: {loss_res:>7f}  [{current:>5d}/{size:>5d}]\")"
   ]
  },
  {
   "cell_type": "code",
   "execution_count": 28,
   "metadata": {},
   "outputs": [],
   "source": [
    "list_accur = []\n",
    "list_loss = []\n",
    "def test_loop(dataloader, model):\n",
    "    \n",
    "    model.eval()\n",
    "    size = len(dataloader.dataset)\n",
    "    num_batches = len(dataloader)\n",
    "    test_loss, correct = 0, 0\n",
    "\n",
    "    with torch.no_grad():\n",
    "        for X, y in dataloader:\n",
    "            pred = model(X)\n",
    "            test_loss += loss(pred, y).item()\n",
    "            correct += (pred.argmax(1) == y).type(torch.float).sum().item()\n",
    "\n",
    "    test_loss /= num_batches\n",
    "    correct /= size\n",
    "    print(f\"Test Error: \\n Accuracy: {(100*correct):>0.1f}%, Avg loss: {test_loss:>8f} \\n\")\n",
    "    return list_accur.append(f\"{(100*correct):>0.1f}\"), list_loss.append(f\"{test_loss:>8f}\")"
   ]
  },
  {
   "cell_type": "code",
   "execution_count": 29,
   "metadata": {},
   "outputs": [
    {
     "name": "stdout",
     "output_type": "stream",
     "text": [
      "Epoch 1\n",
      "-------------------------------\n",
      "loss: 12.433832  [   64/100000]\n",
      "loss: 8.692579  [ 6464/100000]\n",
      "loss: 8.639481  [12864/100000]\n",
      "loss: 8.819379  [19264/100000]\n",
      "loss: 7.372560  [25664/100000]\n",
      "loss: 8.024902  [32064/100000]\n",
      "loss: 8.107384  [38464/100000]\n",
      "loss: 7.610434  [44864/100000]\n",
      "loss: 7.763409  [51264/100000]\n",
      "loss: 8.579734  [57664/100000]\n",
      "loss: 7.743560  [64064/100000]\n",
      "loss: 7.740832  [70464/100000]\n",
      "loss: 7.688548  [76864/100000]\n",
      "loss: 7.560096  [83264/100000]\n",
      "loss: 7.768212  [89664/100000]\n",
      "loss: 7.118536  [96064/100000]\n",
      "Test Error: \n",
      " Accuracy: 5.4%, Avg loss: 6.801579 \n",
      "\n",
      "Epoch 2\n",
      "-------------------------------\n",
      "loss: 6.180341  [   64/100000]\n",
      "loss: 6.279871  [ 6464/100000]\n",
      "loss: 6.635113  [12864/100000]\n",
      "loss: 6.374259  [19264/100000]\n",
      "loss: 6.662385  [25664/100000]\n",
      "loss: 6.374636  [32064/100000]\n",
      "loss: 6.491065  [38464/100000]\n",
      "loss: 6.897297  [44864/100000]\n",
      "loss: 6.410582  [51264/100000]\n",
      "loss: 5.868965  [57664/100000]\n",
      "loss: 5.921316  [64064/100000]\n",
      "loss: 6.210493  [70464/100000]\n",
      "loss: 5.701706  [76864/100000]\n",
      "loss: 5.706419  [83264/100000]\n",
      "loss: 5.865912  [89664/100000]\n",
      "loss: 6.260912  [96064/100000]\n",
      "Test Error: \n",
      " Accuracy: 6.7%, Avg loss: 6.179686 \n",
      "\n",
      "Epoch 3\n",
      "-------------------------------\n",
      "loss: 6.269288  [   64/100000]\n",
      "loss: 5.966114  [ 6464/100000]\n",
      "loss: 5.431973  [12864/100000]\n",
      "loss: 6.432378  [19264/100000]\n",
      "loss: 5.952792  [25664/100000]\n",
      "loss: 6.315308  [32064/100000]\n",
      "loss: 6.385040  [38464/100000]\n",
      "loss: 6.215653  [44864/100000]\n",
      "loss: 6.728419  [51264/100000]\n",
      "loss: 6.009377  [57664/100000]\n",
      "loss: 5.906489  [64064/100000]\n",
      "loss: 6.487795  [70464/100000]\n",
      "loss: 6.533702  [76864/100000]\n",
      "loss: 6.189909  [83264/100000]\n",
      "loss: 6.974072  [89664/100000]\n",
      "loss: 5.827402  [96064/100000]\n",
      "Test Error: \n",
      " Accuracy: 7.2%, Avg loss: 6.232232 \n",
      "\n",
      "Epoch 4\n",
      "-------------------------------\n",
      "loss: 6.607814  [   64/100000]\n",
      "loss: 5.880046  [ 6464/100000]\n",
      "loss: 5.466772  [12864/100000]\n",
      "loss: 5.853721  [19264/100000]\n",
      "loss: 6.136995  [25664/100000]\n",
      "loss: 6.073982  [32064/100000]\n",
      "loss: 5.870397  [38464/100000]\n",
      "loss: 5.971295  [44864/100000]\n",
      "loss: 5.676326  [51264/100000]\n",
      "loss: 6.643981  [57664/100000]\n",
      "loss: 5.887764  [64064/100000]\n",
      "loss: 5.674819  [70464/100000]\n",
      "loss: 6.120612  [76864/100000]\n",
      "loss: 6.047969  [83264/100000]\n",
      "loss: 5.795510  [89664/100000]\n",
      "loss: 5.408195  [96064/100000]\n",
      "Test Error: \n",
      " Accuracy: 8.1%, Avg loss: 6.001030 \n",
      "\n",
      "Epoch 5\n",
      "-------------------------------\n",
      "loss: 5.981384  [   64/100000]\n",
      "loss: 6.076826  [ 6464/100000]\n",
      "loss: 5.810555  [12864/100000]\n",
      "loss: 5.311482  [19264/100000]\n",
      "loss: 5.641303  [25664/100000]\n",
      "loss: 5.864460  [32064/100000]\n",
      "loss: 5.684575  [38464/100000]\n",
      "loss: 5.712073  [44864/100000]\n",
      "loss: 5.596230  [51264/100000]\n",
      "loss: 6.321893  [57664/100000]\n",
      "loss: 5.755633  [64064/100000]\n",
      "loss: 5.995403  [70464/100000]\n",
      "loss: 5.361073  [76864/100000]\n",
      "loss: 5.779360  [83264/100000]\n",
      "loss: 6.985273  [89664/100000]\n",
      "loss: 6.258008  [96064/100000]\n",
      "Test Error: \n",
      " Accuracy: 7.7%, Avg loss: 5.962439 \n",
      "\n",
      "Epoch 6\n",
      "-------------------------------\n",
      "loss: 5.879722  [   64/100000]\n",
      "loss: 5.362411  [ 6464/100000]\n",
      "loss: 5.459794  [12864/100000]\n",
      "loss: 6.274324  [19264/100000]\n",
      "loss: 6.180061  [25664/100000]\n",
      "loss: 5.763165  [32064/100000]\n",
      "loss: 5.273139  [38464/100000]\n",
      "loss: 6.558280  [44864/100000]\n",
      "loss: 6.988876  [51264/100000]\n",
      "loss: 6.079902  [57664/100000]\n",
      "loss: 6.022643  [64064/100000]\n",
      "loss: 5.193169  [70464/100000]\n",
      "loss: 5.836567  [76864/100000]\n",
      "loss: 5.907135  [83264/100000]\n",
      "loss: 5.677765  [89664/100000]\n",
      "loss: 5.837176  [96064/100000]\n",
      "Test Error: \n",
      " Accuracy: 7.8%, Avg loss: 5.986077 \n",
      "\n",
      "Epoch 7\n",
      "-------------------------------\n",
      "loss: 6.142024  [   64/100000]\n",
      "loss: 5.988074  [ 6464/100000]\n",
      "loss: 5.227807  [12864/100000]\n",
      "loss: 5.788692  [19264/100000]\n",
      "loss: 5.602172  [25664/100000]\n",
      "loss: 5.595199  [32064/100000]\n",
      "loss: 5.986664  [38464/100000]\n",
      "loss: 5.364610  [44864/100000]\n",
      "loss: 5.870091  [51264/100000]\n",
      "loss: 6.355716  [57664/100000]\n",
      "loss: 5.585155  [64064/100000]\n",
      "loss: 6.169671  [70464/100000]\n",
      "loss: 6.047553  [76864/100000]\n",
      "loss: 5.347218  [83264/100000]\n",
      "loss: 5.908278  [89664/100000]\n",
      "loss: 5.481778  [96064/100000]\n",
      "Test Error: \n",
      " Accuracy: 8.0%, Avg loss: 5.980514 \n",
      "\n",
      "Epoch 8\n",
      "-------------------------------\n",
      "loss: 5.197753  [   64/100000]\n",
      "loss: 6.164099  [ 6464/100000]\n",
      "loss: 5.864043  [12864/100000]\n",
      "loss: 5.621933  [19264/100000]\n",
      "loss: 5.618664  [25664/100000]\n",
      "loss: 5.920484  [32064/100000]\n",
      "loss: 5.746638  [38464/100000]\n",
      "loss: 5.392825  [44864/100000]\n",
      "loss: 5.645121  [51264/100000]\n",
      "loss: 5.557931  [57664/100000]\n",
      "loss: 5.306324  [64064/100000]\n",
      "loss: 5.283776  [70464/100000]\n",
      "loss: 5.918818  [76864/100000]\n",
      "loss: 6.343346  [83264/100000]\n",
      "loss: 5.734876  [89664/100000]\n",
      "loss: 5.555522  [96064/100000]\n",
      "Test Error: \n",
      " Accuracy: 8.7%, Avg loss: 5.978556 \n",
      "\n",
      "Epoch 9\n",
      "-------------------------------\n",
      "loss: 6.062793  [   64/100000]\n",
      "loss: 5.358853  [ 6464/100000]\n",
      "loss: 5.221799  [12864/100000]\n",
      "loss: 5.504967  [19264/100000]\n",
      "loss: 5.343746  [25664/100000]\n",
      "loss: 6.283472  [32064/100000]\n",
      "loss: 6.185421  [38464/100000]\n",
      "loss: 6.137218  [44864/100000]\n",
      "loss: 5.994175  [51264/100000]\n",
      "loss: 5.722556  [57664/100000]\n",
      "loss: 5.771844  [64064/100000]\n",
      "loss: 5.465684  [70464/100000]\n",
      "loss: 5.732450  [76864/100000]\n",
      "loss: 5.802811  [83264/100000]\n",
      "loss: 6.590608  [89664/100000]\n",
      "loss: 5.619320  [96064/100000]\n",
      "Test Error: \n",
      " Accuracy: 8.1%, Avg loss: 5.971458 \n",
      "\n",
      "Epoch 10\n",
      "-------------------------------\n",
      "loss: 5.453361  [   64/100000]\n",
      "loss: 5.471575  [ 6464/100000]\n",
      "loss: 5.594864  [12864/100000]\n",
      "loss: 5.121789  [19264/100000]\n",
      "loss: 5.972847  [25664/100000]\n",
      "loss: 5.872046  [32064/100000]\n",
      "loss: 5.436707  [38464/100000]\n",
      "loss: 6.027403  [44864/100000]\n",
      "loss: 6.177203  [51264/100000]\n",
      "loss: 5.730073  [57664/100000]\n",
      "loss: 5.853073  [64064/100000]\n",
      "loss: 5.353428  [70464/100000]\n",
      "loss: 6.339192  [76864/100000]\n",
      "loss: 5.905242  [83264/100000]\n",
      "loss: 6.107050  [89664/100000]\n",
      "loss: 6.157868  [96064/100000]\n",
      "Test Error: \n",
      " Accuracy: 8.1%, Avg loss: 5.971660 \n",
      "\n",
      "Done!\n"
     ]
    }
   ],
   "source": [
    "epochs = 10\n",
    "for t in range(epochs):\n",
    "    print(f\"Epoch {t+1}\\n-------------------------------\")\n",
    "    train_loop(train_loader, model)\n",
    "    test_loop(val_loader, model)\n",
    "print(\"Done!\")"
   ]
  },
  {
   "cell_type": "code",
   "execution_count": 30,
   "metadata": {},
   "outputs": [
    {
     "data": {
      "text/plain": [
       "['5.4', '6.7', '7.2', '8.1', '7.7', '7.8', '8.0', '8.7', '8.1', '8.1']"
      ]
     },
     "execution_count": 30,
     "metadata": {},
     "output_type": "execute_result"
    }
   ],
   "source": [
    "list_accur"
   ]
  },
  {
   "cell_type": "code",
   "execution_count": 31,
   "metadata": {},
   "outputs": [
    {
     "data": {
      "text/plain": [
       "['6.801579',\n",
       " '6.179686',\n",
       " '6.232232',\n",
       " '6.001030',\n",
       " '5.962439',\n",
       " '5.986077',\n",
       " '5.980514',\n",
       " '5.978556',\n",
       " '5.971458',\n",
       " '5.971660']"
      ]
     },
     "execution_count": 31,
     "metadata": {},
     "output_type": "execute_result"
    }
   ],
   "source": [
    "list_loss"
   ]
  },
  {
   "cell_type": "code",
   "execution_count": 32,
   "metadata": {},
   "outputs": [],
   "source": [
    "res_accur = ['5.4', '6.7', '7.2', '8.1', '7.7', '7.8', '8.0', '8.7', '8.1', '8.1']\n",
    "res_loss = ['6.801579', '6.179686', '6.232232', '6.001030', '5.962439', '5.986077', '5.980514', '5.978556', '5.971458', '5.971660']"
   ]
  },
  {
   "cell_type": "code",
   "execution_count": 33,
   "metadata": {},
   "outputs": [
    {
     "data": {
      "text/plain": [
       "[5.4, 6.7, 7.2, 8.1, 7.7, 7.8, 8.0, 8.7, 8.1, 8.1]"
      ]
     },
     "execution_count": 33,
     "metadata": {},
     "output_type": "execute_result"
    }
   ],
   "source": [
    "res_accur = [float(i) for i in res_accur]\n",
    "res_accur"
   ]
  },
  {
   "cell_type": "code",
   "execution_count": 34,
   "metadata": {},
   "outputs": [
    {
     "data": {
      "text/plain": [
       "[6.801579,\n",
       " 6.179686,\n",
       " 6.232232,\n",
       " 6.00103,\n",
       " 5.962439,\n",
       " 5.986077,\n",
       " 5.980514,\n",
       " 5.978556,\n",
       " 5.971458,\n",
       " 5.97166]"
      ]
     },
     "execution_count": 34,
     "metadata": {},
     "output_type": "execute_result"
    }
   ],
   "source": [
    "res_loss = [float(i) for i in res_loss]\n",
    "res_loss"
   ]
  },
  {
   "cell_type": "code",
   "execution_count": 35,
   "metadata": {},
   "outputs": [
    {
     "data": {
      "image/png": "[encoded data removed]",
      "text/plain": [
       "<Figure size 640x480 with 1 Axes>"
      ]
     },
     "metadata": {},
     "output_type": "display_data"
    }
   ],
   "source": [
    "plt.plot(res_accur, label='Accuracy')\n",
    "plt.plot(res_loss, label='Loss')\n",
    "plt.xlabel('Epochs')\n",
    "plt.ylabel('Value')\n",
    "plt.title('Accuracy and Loss Graph')\n",
    "plt.legend()\n",
    "plt.show()"
   ]
  }
 ],
 "metadata": {
  "kernelspec": {
   "display_name": "Python 3",
   "language": "python",
   "name": "python3"
  },
  "language_info": {
   "codemirror_mode": {
    "name": "ipython",
    "version": 3
   },
   "file_extension": ".py",
   "mimetype": "text/x-python",
   "name": "python",
   "nbconvert_exporter": "python",
   "pygments_lexer": "ipython3",
   "version": "3.11.2"
  }
 },
 "nbformat": 4,
 "nbformat_minor": 2
}
